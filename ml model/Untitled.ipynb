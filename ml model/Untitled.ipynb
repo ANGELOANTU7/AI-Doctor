{
 "cells": [
  {
   "cell_type": "code",
   "execution_count": null,
   "id": "3b7f616d",
   "metadata": {},
   "outputs": [],
   "source": [
    "import os\n",
    "import cv2\n",
    "import numpy as np\n",
    "from sklearn.ensemble import RandomForestClassifier\n",
    "from sklearn.model_selection import train_test_split\n",
    "from sklearn.metrics import accuracy_score\n",
    "\n"
   ]
  },
  {
   "cell_type": "code",
   "execution_count": null,
   "id": "7979f3a1",
   "metadata": {},
   "outputs": [],
   "source": [
    "# Define the path to the folders containing normal throat and tonsillitis images\n",
    "normal_throat_folder = 'path/to/normal_throat_folder'\n",
    "tonsillitis_folder = 'ml model/tonsilatitis pictures'\n",
    "\n",
    "# Read images from the folders and extract features\n",
    "X = []\n",
    "y = []\n"
   ]
  },
  {
   "cell_type": "code",
   "execution_count": null,
   "id": "8d865379",
   "metadata": {},
   "outputs": [],
   "source": [
    "# Load normal throat images\n",
    "for filename in os.listdir(normal_throat_folder):\n",
    "    if filename.endswith('.jpg') or filename.endswith('.png'):\n",
    "        img_path = os.path.join(normal_throat_folder, filename)\n",
    "        img = cv2.imread(img_path)\n",
    "        # Preprocess the image and extract features (you may need to adapt this part based on your specific requirements)\n",
    "        feature_vector = preprocess_and_extract_features(img)\n",
    "        X.append(feature_vector)\n",
    "        y.append(0)  # Label 0 represents normal throat"
   ]
  },
  {
   "cell_type": "code",
   "execution_count": null,
   "id": "550bc1c3",
   "metadata": {},
   "outputs": [],
   "source": [
    "# Load tonsillitis images\n",
    "for filename in os.listdir(tonsillitis_folder):\n",
    "    if filename.endswith('.jpg') or filename.endswith('.png'):\n",
    "        img_path = os.path.join(tonsillitis_folder, filename)\n",
    "        img = cv2.imread(img_path)\n",
    "        # Preprocess the image and extract features\n",
    "        feature_vector = preprocess_and_extract_features(img)\n",
    "        X.append(feature_vector)\n",
    "        y.append(1)  # Label 1 represents tonsillitis"
   ]
  },
  {
   "cell_type": "code",
   "execution_count": null,
   "id": "04f45329",
   "metadata": {},
   "outputs": [],
   "source": [
    "\n",
    "# Convert the data to numpy arrays\n",
    "X = np.array(X)\n",
    "y = np.array(y)"
   ]
  },
  {
   "cell_type": "code",
   "execution_count": null,
   "id": "f7349f59",
   "metadata": {},
   "outputs": [],
   "source": [
    "# Split the dataset into training and testing sets\n",
    "X_train, X_test, y_train, y_test = train_test_split(X, y, test_size=0.2, random_state=42)"
   ]
  },
  {
   "cell_type": "code",
   "execution_count": null,
   "id": "2830432d",
   "metadata": {},
   "outputs": [],
   "source": [
    "# Create and train the random forest classifier\n",
    "rf_classifier = RandomForestClassifier(n_estimators=100, random_state=42)\n",
    "rf_classifier.fit(X_train, y_train)"
   ]
  },
  {
   "cell_type": "code",
   "execution_count": null,
   "id": "89160c49",
   "metadata": {},
   "outputs": [],
   "source": [
    "# Make predictions on the test set\n",
    "y_pred = rf_classifier.predict(X_test)\n",
    "\n",
    "# Calculate accuracy\n",
    "accuracy = accuracy_score(y_test, y_pred)\n",
    "print(\"Accuracy: {:.2f}%\".format(accuracy * 100))"
   ]
  }
 ],
 "metadata": {
  "kernelspec": {
   "display_name": "Python 3 (ipykernel)",
   "language": "python",
   "name": "python3"
  },
  "language_info": {
   "codemirror_mode": {
    "name": "ipython",
    "version": 3
   },
   "file_extension": ".py",
   "mimetype": "text/x-python",
   "name": "python",
   "nbconvert_exporter": "python",
   "pygments_lexer": "ipython3",
   "version": "3.10.0"
  }
 },
 "nbformat": 4,
 "nbformat_minor": 5
}
